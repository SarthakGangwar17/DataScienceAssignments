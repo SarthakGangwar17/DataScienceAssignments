{
  "nbformat": 4,
  "nbformat_minor": 0,
  "metadata": {
    "colab": {
      "provenance": [],
      "authorship_tag": "ABX9TyOQX/0M2QNzUGqEQI6fSilA",
      "include_colab_link": true
    },
    "kernelspec": {
      "name": "python3",
      "display_name": "Python 3"
    },
    "language_info": {
      "name": "python"
    }
  },
  "cells": [
    {
      "cell_type": "markdown",
      "metadata": {
        "id": "view-in-github",
        "colab_type": "text"
      },
      "source": [
        "<a href=\"https://colab.research.google.com/github/SarthakGangwar17/DataScienceAssignments/blob/main/Untitled25.ipynb\" target=\"_parent\"><img src=\"https://colab.research.google.com/assets/colab-badge.svg\" alt=\"Open In Colab\"/></a>"
      ]
    },
    {
      "cell_type": "code",
      "execution_count": 1,
      "metadata": {
        "id": "RLMMuXigvG7t"
      },
      "outputs": [],
      "source": [
        "\n",
        "class vehicle:\n",
        "  def __init__(self,nameOfVechile, maxSpeed, avgOfVechile):\n",
        "    self.nameOfVechile=nameOfVechile\n",
        "    self.maxSpeed=maxSpeed\n",
        "    self.avgOfVechile=avgOfVechile\n",
        "\n",
        "\n",
        "\n",
        "\n",
        "car1=vehicle('G Wagon',240, 13)"
      ]
    },
    {
      "cell_type": "markdown",
      "source": [
        "Answer 1:-"
      ],
      "metadata": {
        "id": "SoML_3qAvvlF"
      }
    },
    {
      "cell_type": "markdown",
      "source": [],
      "metadata": {
        "id": "lcdzSdo9w91u"
      }
    },
    {
      "cell_type": "code",
      "source": [
        "car.avgOfVechile\n",
        "car.maxSpeed\n",
        "car.nameOfVechile"
      ],
      "metadata": {
        "colab": {
          "base_uri": "https://localhost:8080/",
          "height": 36
        },
        "id": "c89Bp-PGvrvL",
        "outputId": "f9725768-d8bf-4912-89e9-cadfaad99877"
      },
      "execution_count": 4,
      "outputs": [
        {
          "output_type": "execute_result",
          "data": {
            "text/plain": [
              "'G Wagon'"
            ],
            "application/vnd.google.colaboratory.intrinsic+json": {
              "type": "string"
            }
          },
          "metadata": {},
          "execution_count": 4
        }
      ]
    },
    {
      "cell_type": "markdown",
      "source": [
        "Answer 2:-"
      ],
      "metadata": {
        "id": "EoRwUrdHxAm0"
      }
    },
    {
      "cell_type": "code",
      "source": [
        "class car(vehicle):\n",
        "  def seatingcapacity(self,capacity):\n",
        "    self.capacity=capacity\n",
        "\n",
        "    return self.capacity,self.nameOfVechile\n",
        "\n",
        "\n"
      ],
      "metadata": {
        "id": "IcF46qnBwC5x"
      },
      "execution_count": 5,
      "outputs": []
    },
    {
      "cell_type": "code",
      "source": [
        "car2=car('mercedes',200,'11')\n"
      ],
      "metadata": {
        "id": "logN3P7Kwuni"
      },
      "execution_count": 6,
      "outputs": []
    },
    {
      "cell_type": "code",
      "source": [
        "car2.seatingcapacity(5)"
      ],
      "metadata": {
        "colab": {
          "base_uri": "https://localhost:8080/"
        },
        "id": "cTmkt4CNw25B",
        "outputId": "10155804-a26f-41a9-fc06-d36b1788d501"
      },
      "execution_count": 7,
      "outputs": [
        {
          "output_type": "execute_result",
          "data": {
            "text/plain": [
              "(5, 'mercedes')"
            ]
          },
          "metadata": {},
          "execution_count": 7
        }
      ]
    },
    {
      "cell_type": "markdown",
      "source": [
        "Answer 3:-\n"
      ],
      "metadata": {
        "id": "5JQ51u8GxNAI"
      }
    },
    {
      "cell_type": "code",
      "source": [
        "class father:\n",
        "  height=6\n",
        "\n",
        "class mother:\n",
        "  color='grey'\n",
        "\n",
        "class child(father,mother):\n",
        "  def prnt(s):\n",
        "    return s.height,s.color\n",
        "\n",
        "\n",
        "baby=child()\n",
        "\n",
        "baby.prnt()\n",
        "\n",
        "\n",
        "\n",
        "\n",
        "\n",
        "\n"
      ],
      "metadata": {
        "colab": {
          "base_uri": "https://localhost:8080/"
        },
        "id": "UOABJCe5w7sq",
        "outputId": "92e6a6b2-7cb6-4171-8bbc-9a6a9fe2d44e"
      },
      "execution_count": 9,
      "outputs": [
        {
          "output_type": "execute_result",
          "data": {
            "text/plain": [
              "(6, 'grey')"
            ]
          },
          "metadata": {},
          "execution_count": 9
        }
      ]
    },
    {
      "cell_type": "markdown",
      "source": [
        "Answer 4:- Getter and setter are the method that are used to acces the members that can not be directly acces because they are private."
      ],
      "metadata": {
        "id": "BiFsalY2xy0P"
      }
    },
    {
      "cell_type": "code",
      "source": [
        "\n",
        "class demo:\n",
        "  def __init__(s):\n",
        "    _a=0\n",
        "    _b=0\n",
        "\n",
        "  def setter(s,a,b):\n",
        "    s._a=a\n",
        "    s._b=b\n",
        "\n",
        "  def getter(s):\n",
        "    return s._a,s._b\n",
        "\n",
        "\n",
        "d=demo()\n",
        "d.setter(5,6)\n",
        "d.getter()\n",
        "\n",
        "\n",
        "\n",
        ""
      ],
      "metadata": {
        "colab": {
          "base_uri": "https://localhost:8080/"
        },
        "id": "CCh6ry0qxuiZ",
        "outputId": "852a796f-25a3-4fbb-abe2-2ea3be6a0c29"
      },
      "execution_count": 12,
      "outputs": [
        {
          "output_type": "execute_result",
          "data": {
            "text/plain": [
              "(5, 6)"
            ]
          },
          "metadata": {},
          "execution_count": 12
        }
      ]
    },
    {
      "cell_type": "markdown",
      "source": [
        "Answer 5:-\n",
        "Method Overriding is a concept in python in which a child class has a same name method as its super class"
      ],
      "metadata": {
        "id": "mQs7Kv3Z0XBc"
      }
    },
    {
      "cell_type": "code",
      "source": [
        "class parent:\n",
        "  def prnt(s):\n",
        "    print(\"Parent\")\n",
        "\n",
        "class child:\n",
        "  def prnt(s):\n",
        "    print(\"Child\")\n",
        "\n",
        "\n",
        "c=child()\n",
        "c.prnt()"
      ],
      "metadata": {
        "colab": {
          "base_uri": "https://localhost:8080/"
        },
        "id": "cmg_tz6S0lNx",
        "outputId": "cdfc2bab-7358-4e0f-c41a-c953e9b46cd3"
      },
      "execution_count": 14,
      "outputs": [
        {
          "output_type": "stream",
          "name": "stdout",
          "text": [
            "Child\n"
          ]
        }
      ]
    },
    {
      "cell_type": "code",
      "source": [],
      "metadata": {
        "id": "d8VR6yvf0vGO"
      },
      "execution_count": null,
      "outputs": []
    }
  ]
}