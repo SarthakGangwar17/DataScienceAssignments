{
  "nbformat": 4,
  "nbformat_minor": 0,
  "metadata": {
    "colab": {
      "provenance": [],
      "authorship_tag": "ABX9TyMjX9DPbrE7XRWNqMY3yOxw",
      "include_colab_link": true
    },
    "kernelspec": {
      "name": "python3",
      "display_name": "Python 3"
    },
    "language_info": {
      "name": "python"
    }
  },
  "cells": [
    {
      "cell_type": "markdown",
      "metadata": {
        "id": "view-in-github",
        "colab_type": "text"
      },
      "source": [
        "<a href=\"https://colab.research.google.com/github/SarthakGangwar17/DataScienceAssignments/blob/main/StatisticsAssignment2.ipynb\" target=\"_parent\"><img src=\"https://colab.research.google.com/assets/colab-badge.svg\" alt=\"Open In Colab\"/></a>"
      ]
    },
    {
      "cell_type": "markdown",
      "source": [
        "Answer 1:-\n",
        "There are 3 measure of central tendency\n",
        "Mean\n",
        "Median\n",
        "Mode\n"
      ],
      "metadata": {
        "id": "DgCmSM4axdV0"
      }
    },
    {
      "cell_type": "markdown",
      "source": [
        "Answer 2:-\n",
        "The main diff b/w Mean, Median ,Mode is that\n",
        "Mean can used to find the avg of the values and  when there is no outlier.\n",
        "Median can used only when values are sorted and it can handle outliers.\n",
        "\n",
        "Mode :- Mode is used to find most occuring element. It works well with categorical data.\n"
      ],
      "metadata": {
        "id": "36HG9mLGxorj"
      }
    },
    {
      "cell_type": "code",
      "source": [],
      "metadata": {
        "id": "SM7rTVEuyQbr"
      },
      "execution_count": null,
      "outputs": []
    },
    {
      "cell_type": "markdown",
      "source": [
        "Answer 3:"
      ],
      "metadata": {
        "id": "w3lU9-elyRER"
      }
    },
    {
      "cell_type": "code",
      "source": [
        "v=[178,177,176,177,178.2,178,175,179,180,175,178.9,176.2,177,172.5,178,176.5]\n",
        "import numpy as np\n"
      ],
      "metadata": {
        "colab": {
          "base_uri": "https://localhost:8080/"
        },
        "id": "2OHMtExkyXih",
        "outputId": "f5deb234-4da3-4560-ce56-51e9c7025912"
      },
      "execution_count": 19,
      "outputs": [
        {
          "output_type": "execute_result",
          "data": {
            "text/plain": [
              "177.01875"
            ]
          },
          "metadata": {},
          "execution_count": 19
        }
      ]
    },
    {
      "cell_type": "code",
      "source": [
        "mean=np.mean(v)\n",
        "mean"
      ],
      "metadata": {
        "colab": {
          "base_uri": "https://localhost:8080/"
        },
        "id": "miDLVQS4yd_A",
        "outputId": "15397f57-1d18-4314-da26-ffdf5cdf348e"
      },
      "execution_count": 20,
      "outputs": [
        {
          "output_type": "execute_result",
          "data": {
            "text/plain": [
              "177.01875"
            ]
          },
          "metadata": {},
          "execution_count": 20
        }
      ]
    },
    {
      "cell_type": "code",
      "source": [
        "median=np.median(v)\n",
        "median"
      ],
      "metadata": {
        "colab": {
          "base_uri": "https://localhost:8080/"
        },
        "id": "ccizdElJyjVP",
        "outputId": "f4d8161c-861d-48ed-c0f7-b0fb3b554c0f"
      },
      "execution_count": 23,
      "outputs": [
        {
          "output_type": "execute_result",
          "data": {
            "text/plain": [
              "177.0"
            ]
          },
          "metadata": {},
          "execution_count": 23
        }
      ]
    },
    {
      "cell_type": "code",
      "source": [
        "mode=np.bincount(v).argmax()"
      ],
      "metadata": {
        "id": "YaChgxFfylx_"
      },
      "execution_count": 28,
      "outputs": []
    },
    {
      "cell_type": "code",
      "source": [
        "mode"
      ],
      "metadata": {
        "colab": {
          "base_uri": "https://localhost:8080/"
        },
        "id": "rl3gJ84Yy1Le",
        "outputId": "0674ec7e-2043-4c35-bbca-524b10773d87"
      },
      "execution_count": 29,
      "outputs": [
        {
          "output_type": "execute_result",
          "data": {
            "text/plain": [
              "178"
            ]
          },
          "metadata": {},
          "execution_count": 29
        }
      ]
    },
    {
      "cell_type": "markdown",
      "source": [
        "Answer 4:-\n"
      ],
      "metadata": {
        "id": "q8iIgtO0zgMm"
      }
    },
    {
      "cell_type": "code",
      "source": [
        "d=[178,177,176,177,178.2,178,175,179,180,175,178.9,176.2,177,172.5,178,176.5]\n",
        "np.std(d)"
      ],
      "metadata": {
        "colab": {
          "base_uri": "https://localhost:8080/"
        },
        "id": "x0SDa7-Jzp5X",
        "outputId": "90557a49-ede9-401a-81e4-98c43056bd42"
      },
      "execution_count": 31,
      "outputs": [
        {
          "output_type": "execute_result",
          "data": {
            "text/plain": [
              "1.7885814036548633"
            ]
          },
          "metadata": {},
          "execution_count": 31
        }
      ]
    },
    {
      "cell_type": "markdown",
      "source": [
        "Answer 5:-\n",
        "Measurement of Dispersion\n",
        "it is used to tell that how a datapoint is deviate from the mean.\n",
        "\n",
        "Range= It tells the diff bw the highest and lowest data point.\n",
        "Variance -It tell how the data points deviate fromt the mean.\n",
        "It gives the avg of diff bw datapoints and the mean.\n",
        "\n",
        "Std= It is sqrt of variance"
      ],
      "metadata": {
        "id": "9Nv1QAh50MNF"
      }
    },
    {
      "cell_type": "code",
      "source": [],
      "metadata": {
        "id": "bGoSERqO0-4w"
      },
      "execution_count": null,
      "outputs": []
    },
    {
      "cell_type": "markdown",
      "source": [
        "Answer 6:-\n",
        "Ven diagram - It is a graphical representation that is used to represent the rlnshp bw the given sets\n"
      ],
      "metadata": {
        "id": "WCQpe5Vq0_ad"
      }
    },
    {
      "cell_type": "code",
      "source": [],
      "metadata": {
        "id": "d_8UFDq71u3I"
      },
      "execution_count": null,
      "outputs": []
    },
    {
      "cell_type": "markdown",
      "source": [
        "Answer 7:-\n",
        "A = (2,3,4,5,6,7)\n",
        "B = (0,2,6,8,10).\n"
      ],
      "metadata": {
        "id": "jW4TUAsq1vRX"
      }
    },
    {
      "cell_type": "code",
      "source": [
        "A=set([2,3,4,5,6,7])\n",
        "B=set([0,2,6,8,10])"
      ],
      "metadata": {
        "id": "TGo8P_UW19G2"
      },
      "execution_count": 33,
      "outputs": []
    },
    {
      "cell_type": "code",
      "source": [
        "A.union(B)"
      ],
      "metadata": {
        "colab": {
          "base_uri": "https://localhost:8080/"
        },
        "id": "GV8tZ2bO2Hko",
        "outputId": "dbfc1112-c86a-41b9-d2d1-a81dac6a6f92"
      },
      "execution_count": 34,
      "outputs": [
        {
          "output_type": "execute_result",
          "data": {
            "text/plain": [
              "{0, 2, 3, 4, 5, 6, 7, 8, 10}"
            ]
          },
          "metadata": {},
          "execution_count": 34
        }
      ]
    },
    {
      "cell_type": "code",
      "source": [
        "A.intersection(B)"
      ],
      "metadata": {
        "colab": {
          "base_uri": "https://localhost:8080/"
        },
        "id": "gg9BUTzI2Pyp",
        "outputId": "10e27ce9-da55-40c7-b990-9413e2cc31f5"
      },
      "execution_count": 35,
      "outputs": [
        {
          "output_type": "execute_result",
          "data": {
            "text/plain": [
              "{2, 6}"
            ]
          },
          "metadata": {},
          "execution_count": 35
        }
      ]
    },
    {
      "cell_type": "markdown",
      "source": [
        "Answer 8:-\n",
        "Skewness:-\n",
        "It refers the distribution of the data\n",
        "it is of two type\n",
        "left skeweed\n",
        "right skeweed\n",
        "\n"
      ],
      "metadata": {
        "id": "-6jr6OKd2aqa"
      }
    },
    {
      "cell_type": "markdown",
      "source": [
        "Answer 9:-\n",
        "In the case of right skeweed\n",
        "median will be left to the mean\n",
        "Mean will be greater than median\n",
        "and medain will be greater than mode\n"
      ],
      "metadata": {
        "id": "6fkup-ca4yDZ"
      }
    },
    {
      "cell_type": "markdown",
      "source": [
        "Answer 10:-\n",
        "Covariance:-\n",
        "Cov is used to tell the relationship bw the two var x and y.\n",
        "It tells how strongly two var are related to each\n",
        "other.\n",
        "It ranges from plus infinite to minus infinte.\n",
        "It is of two type -\n",
        "positive covariance\n",
        "negative covariance\n",
        "\n",
        "\n",
        "Corelation-\n",
        "corr is used to tell strength of the relation bw the var .\n",
        "It ranges from +1 to -1."
      ],
      "metadata": {
        "id": "3q8oS7sN5HVd"
      }
    },
    {
      "cell_type": "markdown",
      "source": [
        "Answer11:-"
      ],
      "metadata": {
        "id": "HluiA-l56RBk"
      }
    },
    {
      "cell_type": "code",
      "source": [
        "import seaborn as sns\n",
        "d=sns.load_dataset('iris')\n",
        "d.head()\n",
        "\n",
        "import numpy as np\n",
        "np.mean(d['sepal_width'])"
      ],
      "metadata": {
        "colab": {
          "base_uri": "https://localhost:8080/"
        },
        "id": "oHGetVJl6eDQ",
        "outputId": "0dc2faf4-edd6-477b-9041-7cef07f2ebf8"
      },
      "execution_count": 39,
      "outputs": [
        {
          "output_type": "execute_result",
          "data": {
            "text/plain": [
              "3.0573333333333337"
            ]
          },
          "metadata": {},
          "execution_count": 39
        }
      ]
    },
    {
      "cell_type": "markdown",
      "source": [
        "Answer 12:-\n",
        "Normal Distribution:-\n",
        "In this distribution both half are equal\n",
        "and the relationship between mean ,median and mode is-\n",
        "mean=median=mode\n",
        "\n"
      ],
      "metadata": {
        "id": "WX13iOHG63Ch"
      }
    },
    {
      "cell_type": "markdown",
      "source": [
        "Answer 13:-\n",
        "diff bw covariance and corelation:\n",
        "the range of covariance is from positive infinity\n",
        "to negative infinity\n",
        "The range of corelation is +1 to -1"
      ],
      "metadata": {
        "id": "a7hBKiLV7LEZ"
      }
    },
    {
      "cell_type": "markdown",
      "source": [
        "Answer 14:-\n"
      ],
      "metadata": {
        "id": "kSfinY2z7vYp"
      }
    },
    {
      "cell_type": "code",
      "source": [
        "a=[1,2,3,5,6,7,8]\n",
        "np.mean(a)"
      ],
      "metadata": {
        "colab": {
          "base_uri": "https://localhost:8080/"
        },
        "id": "fz3TPfVu71Py",
        "outputId": "1c77efe7-7fc7-45a4-9c32-c71df07421d4"
      },
      "execution_count": 41,
      "outputs": [
        {
          "output_type": "execute_result",
          "data": {
            "text/plain": [
              "2.4411439272335804"
            ]
          },
          "metadata": {},
          "execution_count": 41
        }
      ]
    },
    {
      "cell_type": "code",
      "source": [
        "np.std(a)"
      ],
      "metadata": {
        "colab": {
          "base_uri": "https://localhost:8080/"
        },
        "id": "FIyU6qAq740a",
        "outputId": "a0c4ec31-4f72-47d2-b310-6d9ab3a9ac4d"
      },
      "execution_count": 42,
      "outputs": [
        {
          "output_type": "execute_result",
          "data": {
            "text/plain": [
              "2.4411439272335804"
            ]
          },
          "metadata": {},
          "execution_count": 42
        }
      ]
    },
    {
      "cell_type": "code",
      "source": [
        "b=[1,2,3,4,5,6,7,86]\n",
        "np.mean(b)"
      ],
      "metadata": {
        "colab": {
          "base_uri": "https://localhost:8080/"
        },
        "id": "jHsRB5Du8AQB",
        "outputId": "c477fc30-af9d-4181-97cf-5e0d69af9537"
      },
      "execution_count": 43,
      "outputs": [
        {
          "output_type": "execute_result",
          "data": {
            "text/plain": [
              "14.25"
            ]
          },
          "metadata": {},
          "execution_count": 43
        }
      ]
    },
    {
      "cell_type": "code",
      "source": [
        "np.std(b)"
      ],
      "metadata": {
        "id": "lpnXpYRE8HaK",
        "outputId": "0b37434f-5d15-4654-d343-b5af33ca248f",
        "colab": {
          "base_uri": "https://localhost:8080/"
        }
      },
      "execution_count": 44,
      "outputs": [
        {
          "output_type": "execute_result",
          "data": {
            "text/plain": [
              "27.183404863997445"
            ]
          },
          "metadata": {},
          "execution_count": 44
        }
      ]
    },
    {
      "cell_type": "code",
      "source": [],
      "metadata": {
        "id": "V-_dhbp_8JUZ"
      },
      "execution_count": null,
      "outputs": []
    }
  ]
}