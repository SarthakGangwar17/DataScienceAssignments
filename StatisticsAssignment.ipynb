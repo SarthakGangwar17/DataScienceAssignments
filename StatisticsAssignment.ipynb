{
  "nbformat": 4,
  "nbformat_minor": 0,
  "metadata": {
    "colab": {
      "provenance": [],
      "authorship_tag": "ABX9TyNhO8dYyNMm8PdsOJ9ZEfvj",
      "include_colab_link": true
    },
    "kernelspec": {
      "name": "python3",
      "display_name": "Python 3"
    },
    "language_info": {
      "name": "python"
    }
  },
  "cells": [
    {
      "cell_type": "markdown",
      "metadata": {
        "id": "view-in-github",
        "colab_type": "text"
      },
      "source": [
        "<a href=\"https://colab.research.google.com/github/SarthakGangwar17/DataScienceAssignments/blob/main/StatisticsAssignment.ipynb\" target=\"_parent\"><img src=\"https://colab.research.google.com/assets/colab-badge.svg\" alt=\"Open In Colab\"/></a>"
      ]
    },
    {
      "cell_type": "code",
      "execution_count": null,
      "metadata": {
        "id": "8yj-25qLvW57"
      },
      "outputs": [],
      "source": []
    },
    {
      "cell_type": "markdown",
      "source": [
        "Answer 1:- Statistics is the branck of science in which we collecting ,  analyzing ,summerize,organize data and make conclusion from data.\n"
      ],
      "metadata": {
        "id": "y1r2AkwcxaI8"
      }
    },
    {
      "cell_type": "markdown",
      "source": [
        "Answer 2:-\n",
        "There are maninly two types of statistics .\n",
        "descriptive statistics:-\n",
        "It is a one of the type of statistics in which we organize and summerize data.\n",
        "Ex- measurement of central tendancy, measurement of dispersion.\n",
        "\n",
        "Infrential statistics:-\n",
        "In this type of statistics conclusion is made based on the measured test.\n",
        "Ex- pdf,z test , p test."
      ],
      "metadata": {
        "id": "IQ6R71bkyK4Y"
      }
    },
    {
      "cell_type": "markdown",
      "source": [
        "Answer 3:-\n",
        "There are two type of data in statistics.\n",
        "1. Qualtative\n",
        "2.Quantative\n",
        "Quantative:- It is data that can be numerically measured. In this mathematical operation can be performed.\n",
        "It has 2 subtypes.\n",
        "disctre- It is whole number.\n",
        "Ex-  no.of person, bankAccount\n",
        "continous- It can be any number integer float.\n",
        "Ex- length of the road,height of person.\n",
        "\n",
        "Qualtative:- This data can be catagorized based on the some qualities.\n",
        "Ex- sex of the person, bool.\n",
        "It has 2  subtypes.\n",
        "Nominal - In this data order or rank does not matter.\n",
        "color types.\n",
        "\n",
        "\n",
        "Ordinal - In this data rank or order of the data matters.\n",
        "ranks - first, second.\n"
      ],
      "metadata": {
        "id": "-Uwk-juG3SE7"
      }
    },
    {
      "cell_type": "markdown",
      "source": [],
      "metadata": {
        "id": "mKiY2rZC5wYu"
      }
    },
    {
      "cell_type": "markdown",
      "source": [
        "Answer 4:-  \n",
        "1-  catagorical (ordinal)\n",
        "2-catagorical (nominal)\n",
        "3- Quantative (continous)\n",
        "4- Quantative(discrete)"
      ],
      "metadata": {
        "id": "MCu9SOoC51-c"
      }
    },
    {
      "cell_type": "markdown",
      "source": [
        "Answer 5:-\n",
        "There are mainly four level of measurements.\n",
        "Nominal level of measurements-\n",
        "the categorical data that does not has rank or order.\n",
        "Ordinal level of measurements-\n",
        "The categorical data has rank or order of data.\n",
        "Interval level of measurements-\n",
        "In this data is in the form of  intervals and zero is not included.\n",
        "Ex- Range of the heights of the students.\n",
        "Ratio level of measurements-\n",
        "It has all same funcnalities of Interval but it include zero as well.\n",
        "Range of the weight of the students\n",
        "\n",
        "\n"
      ],
      "metadata": {
        "id": "yYTtPWEH6aOb"
      }
    },
    {
      "cell_type": "code",
      "source": [],
      "metadata": {
        "id": "skk02381QB1F"
      },
      "execution_count": null,
      "outputs": []
    },
    {
      "cell_type": "markdown",
      "source": [
        "Answer 7:-\n",
        "In nominal data the order of the data or rank does not matter\n",
        "but in ordinal the rank and order of the data matters.\n",
        "\n"
      ],
      "metadata": {
        "id": "U73T07heQGFv"
      }
    },
    {
      "cell_type": "code",
      "source": [],
      "metadata": {
        "id": "p49I5UqIQvLu"
      },
      "execution_count": null,
      "outputs": []
    },
    {
      "cell_type": "markdown",
      "source": [
        "Answer 8 :-\n",
        "Histogram is used to represent or draw the  ordinal data type.\n",
        "\n",
        "\n"
      ],
      "metadata": {
        "id": "uXENzdagQzaf"
      }
    },
    {
      "cell_type": "code",
      "source": [],
      "metadata": {
        "id": "_V5-NEEYSUnC"
      },
      "execution_count": null,
      "outputs": []
    },
    {
      "cell_type": "markdown",
      "source": [
        "Answer 9:-\n",
        "Infrential Statistics:-\n",
        "It is used to analyze summerize and manage data.\n",
        "Ex- measurement of central tendency , measurement of  dispersion.\n",
        "\n",
        "Descriptive Statistics:-\n",
        "It used to find the conclusion based on the summerized data.\n",
        "Ex- pdf,pmf,z test, p test.\n",
        "\n",
        "\n"
      ],
      "metadata": {
        "id": "KE3Lj8ITSU7g"
      }
    },
    {
      "cell_type": "markdown",
      "source": [
        "Answer 10:-\n",
        "Mean-\n",
        "It is the avg of the given values.\n",
        "Median - It is the mid value .\n",
        "Mode- It is most frequent values.\n"
      ],
      "metadata": {
        "id": "0z_-Qmy6Uffc"
      }
    }
  ]
}