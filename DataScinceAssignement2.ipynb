{
 "cells": [
  {
   "cell_type": "code",
   "execution_count": null,
   "id": "e8caf8c2-24ff-4656-ae7b-a674a2352f6d",
   "metadata": {},
   "outputs": [],
   "source": [
    "# Answer 1 :\n",
    "#   We can comment with the help of  '#' symbol.\n",
    "#   There are two types of comments .\n",
    "#   1. Single line comment.\n",
    "#   2. Multi Line comment.\n",
    "\n",
    "#   for multi line we can use 'shift + / '.\n",
    "#   we can use  tripe single or triple double quotes.\n"
   ]
  },
  {
   "cell_type": "code",
   "execution_count": null,
   "id": "f3efc3fe-8c94-4113-a70a-ee0f04879551",
   "metadata": {},
   "outputs": [],
   "source": [
    "#  Answer 2. \n",
    "#     Varaible are container or Memory blocks that store some data .\n",
    "#     Declaration-\n",
    "#     var \n",
    "#     assignment-\n",
    "#     var=20\n",
    "    "
   ]
  },
  {
   "cell_type": "code",
   "execution_count": null,
   "id": "801f07d2-9bcf-479e-b9da-27fb74fafb69",
   "metadata": {},
   "outputs": [],
   "source": [
    "# Answer 3:\n",
    "#     We can convert one data type into another with the help of  type casting\n",
    "#     a= 43.46\n",
    "#     Right now  'a' is floating value bt we have to convert it into int.\n",
    "#     a=int(a)\n",
    "    "
   ]
  },
  {
   "cell_type": "code",
   "execution_count": null,
   "id": "7966064b-76d4-4845-ab9b-a51ff2e67ac3",
   "metadata": {},
   "outputs": [],
   "source": [
    "#Answer 4:\n",
    "  #  Open a commmand line \n",
    "  #  then type python\n",
    "  #  after this write your file name\n",
    "   # then Hit the Enter button\n",
    "   # Ex- python myfile.py  My_Program"
   ]
  },
  {
   "cell_type": "code",
   "execution_count": 1,
   "id": "c5e8e3e4-a3c7-4951-8f49-5aa99b7f5929",
   "metadata": {},
   "outputs": [
    {
     "data": {
      "text/plain": [
       "[2, 3]"
      ]
     },
     "execution_count": 1,
     "metadata": {},
     "output_type": "execute_result"
    }
   ],
   "source": [
    "#Answer 5:\n",
    "my_list=[1,2,3,4,5]\n",
    "\n",
    "my_list[1:3]"
   ]
  },
  {
   "cell_type": "code",
   "execution_count": null,
   "id": "7359a674-dea8-44a3-88b2-abc02543f35f",
   "metadata": {},
   "outputs": [],
   "source": [
    "# Answer 6:\n",
    "#     complex number is a combination of real number and imaginary number.\n",
    "#     Ex- 5+ 6i\n",
    "#     in python it is representer with the help of 'j'.\n",
    "\n",
    "  var= 8+11j"
   ]
  },
  {
   "cell_type": "code",
   "execution_count": null,
   "id": "d75f37e5-3f26-4e23-b222-2fd3eae68ad0",
   "metadata": {},
   "outputs": [],
   "source": [
    "#Anser 7:\n",
    "# The correct way to declare a variable and assign a value is :\n",
    " age=25"
   ]
  },
  {
   "cell_type": "code",
   "execution_count": 2,
   "id": "a0e80b5e-dfc0-4169-82e8-c71681522165",
   "metadata": {},
   "outputs": [
    {
     "data": {
      "text/plain": [
       "float"
      ]
     },
     "execution_count": 2,
     "metadata": {},
     "output_type": "execute_result"
    }
   ],
   "source": [
    "# Answer 8:\n",
    "\n",
    "price =9.9\n",
    "# The type of the price is:\n",
    "type(price)"
   ]
  },
  {
   "cell_type": "code",
   "execution_count": 3,
   "id": "cb097576-a866-4b39-a91d-a8d38cf753b4",
   "metadata": {},
   "outputs": [
    {
     "name": "stdout",
     "output_type": "stream",
     "text": [
      "Sarthak Gangwar\n"
     ]
    }
   ],
   "source": [
    "# Answer 9:\n",
    "name=\"Sarthak Gangwar\"\n",
    "print(name)"
   ]
  },
  {
   "cell_type": "code",
   "execution_count": null,
   "id": "ff30ce33-22e9-44c0-957a-06076a1f7e52",
   "metadata": {},
   "outputs": [],
   "source": [
    "#Answer 10:\n",
    "strng=\"Hello "
   ]
  }
 ],
 "metadata": {
  "kernelspec": {
   "display_name": "Python 3 (ipykernel)",
   "language": "python",
   "name": "python3"
  },
  "language_info": {
   "codemirror_mode": {
    "name": "ipython",
    "version": 3
   },
   "file_extension": ".py",
   "mimetype": "text/x-python",
   "name": "python",
   "nbconvert_exporter": "python",
   "pygments_lexer": "ipython3",
   "version": "3.10.8"
  }
 },
 "nbformat": 4,
 "nbformat_minor": 5
}
