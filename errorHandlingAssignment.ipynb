{
  "nbformat": 4,
  "nbformat_minor": 0,
  "metadata": {
    "colab": {
      "provenance": [],
      "authorship_tag": "ABX9TyOjnZbFdpYPEp8T5l0DnWES",
      "include_colab_link": true
    },
    "kernelspec": {
      "name": "python3",
      "display_name": "Python 3"
    },
    "language_info": {
      "name": "python"
    }
  },
  "cells": [
    {
      "cell_type": "markdown",
      "metadata": {
        "id": "view-in-github",
        "colab_type": "text"
      },
      "source": [
        "<a href=\"https://colab.research.google.com/github/SarthakGangwar17/DataScienceAssignments/blob/main/errorHandlingAssignment.ipynb\" target=\"_parent\"><img src=\"https://colab.research.google.com/assets/colab-badge.svg\" alt=\"Open In Colab\"/></a>"
      ]
    },
    {
      "cell_type": "code",
      "execution_count": null,
      "metadata": {
        "id": "gDPwwbTA7nXu"
      },
      "outputs": [],
      "source": []
    },
    {
      "cell_type": "markdown",
      "source": [
        "Answer 1:-\n",
        "Excetpion- It is condition that occurs when something unexpected happen during runtime.\n",
        "It disrupt the normal flow of the program.\n",
        "\n",
        "Syntax Error- It is some mistakes in code like comma or braces it is caught by the interpreter before the execution of code"
      ],
      "metadata": {
        "id": "0Rwt2JaclmVN"
      }
    },
    {
      "cell_type": "markdown",
      "source": [
        "Answer 2:- If the exception is not handled properly then it would lead to the termination without fully execution"
      ],
      "metadata": {
        "id": "vSuaDNRimVwI"
      }
    },
    {
      "cell_type": "markdown",
      "source": [
        "Try - it is used to catch the exception from the code.\n",
        "except - It is used to handle the exception\n"
      ],
      "metadata": {
        "id": "xFmgv_THm2UJ"
      }
    },
    {
      "cell_type": "code",
      "source": [
        "try:\n",
        "  prnt(\"This will not print\")\n",
        "\n",
        "except:\n",
        "  print(\"This will be printing\")"
      ],
      "metadata": {
        "colab": {
          "base_uri": "https://localhost:8080/"
        },
        "id": "0kBNOCvUnD5Z",
        "outputId": "c72b9c63-4fd1-4010-f333-d9c3841fd84e"
      },
      "execution_count": 1,
      "outputs": [
        {
          "output_type": "stream",
          "name": "stdout",
          "text": [
            "This will be printing\n"
          ]
        }
      ]
    },
    {
      "cell_type": "markdown",
      "source": [
        "Answer 3:-\n",
        "\n"
      ],
      "metadata": {
        "id": "enwuQGN8nOQ-"
      }
    },
    {
      "cell_type": "code",
      "source": [
        "try:\n",
        "  print(5/5)\n",
        "\n",
        "except:\n",
        "  print(\"yes\")\n",
        "\n",
        "else:\n",
        "  print(\"OO\")"
      ],
      "metadata": {
        "colab": {
          "base_uri": "https://localhost:8080/"
        },
        "id": "vF0ewCvgomww",
        "outputId": "ba0c580c-7267-476e-aea9-338662cc4b7f"
      },
      "execution_count": 5,
      "outputs": [
        {
          "output_type": "stream",
          "name": "stdout",
          "text": [
            "1.0\n",
            "OO\n"
          ]
        }
      ]
    },
    {
      "cell_type": "code",
      "source": [
        "try:\n",
        "  print(sdfd)\n",
        "\n",
        "except:\n",
        "  print(\"Do again\")\n",
        "\n",
        "finally :\n",
        "  print(\"Executed\")"
      ],
      "metadata": {
        "colab": {
          "base_uri": "https://localhost:8080/"
        },
        "id": "30PLRddTo3Jq",
        "outputId": "92e538da-de3f-43f2-9c61-43d929a95132"
      },
      "execution_count": 8,
      "outputs": [
        {
          "output_type": "stream",
          "name": "stdout",
          "text": [
            "Do again\n",
            "Executed\n"
          ]
        }
      ]
    },
    {
      "cell_type": "code",
      "source": [
        "\n",
        "if 5<6:\n",
        "  raise ValuError(\"This is value error\")\n",
        "\n"
      ],
      "metadata": {
        "colab": {
          "base_uri": "https://localhost:8080/",
          "height": 183
        },
        "id": "X_9WPPJEpAnq",
        "outputId": "9df0b8a9-3a3c-45bb-9231-ad5b8c134ff9"
      },
      "execution_count": 12,
      "outputs": [
        {
          "output_type": "error",
          "ename": "NameError",
          "evalue": "name 'ValuError' is not defined",
          "traceback": [
            "\u001b[0;31m---------------------------------------------------------------------------\u001b[0m",
            "\u001b[0;31mNameError\u001b[0m                                 Traceback (most recent call last)",
            "\u001b[0;32m<ipython-input-12-6e96bcc99686>\u001b[0m in \u001b[0;36m<cell line: 1>\u001b[0;34m()\u001b[0m\n\u001b[1;32m      1\u001b[0m \u001b[0;32mif\u001b[0m \u001b[0;36m5\u001b[0m\u001b[0;34m<\u001b[0m\u001b[0;36m6\u001b[0m\u001b[0;34m:\u001b[0m\u001b[0;34m\u001b[0m\u001b[0;34m\u001b[0m\u001b[0m\n\u001b[0;32m----> 2\u001b[0;31m   \u001b[0;32mraise\u001b[0m \u001b[0mValuError\u001b[0m\u001b[0;34m(\u001b[0m\u001b[0;34m\"This is value error\"\u001b[0m\u001b[0;34m)\u001b[0m\u001b[0;34m\u001b[0m\u001b[0;34m\u001b[0m\u001b[0m\n\u001b[0m\u001b[1;32m      3\u001b[0m \u001b[0;34m\u001b[0m\u001b[0m\n",
            "\u001b[0;31mNameError\u001b[0m: name 'ValuError' is not defined"
          ]
        }
      ]
    },
    {
      "cell_type": "markdown",
      "source": [
        "Answer 4:-\n",
        "Custom Exceptions - These are the user defined exception to handle custom errors\n"
      ],
      "metadata": {
        "id": "adkLQTaSqq3o"
      }
    },
    {
      "cell_type": "markdown",
      "source": [
        "Anwer 5:-"
      ],
      "metadata": {
        "id": "pKJZgxAarINq"
      }
    },
    {
      "cell_type": "markdown",
      "source": [],
      "metadata": {
        "id": "iuXCkaZtq-T0"
      }
    },
    {
      "cell_type": "code",
      "source": [
        "class InvalidItemError(Exception):\n",
        "    def __init__(self, item_id):\n",
        "        super().__init__()\n",
        "        self.item_id = item_id\n",
        "\n",
        "def add_to_cart(item_id):\n",
        "    if not is_valid_item(item_id):\n",
        "        raise InvalidItemError(item_id)\n",
        "    # ... add item to cart ...\n",
        "\n",
        "try:\n",
        "    add_to_cart(123)  # Valid item\n",
        "except InvalidItemError as e:\n",
        "    print(f\"Error: Invalid item ID {e.item_id}\")\n"
      ],
      "metadata": {
        "id": "gBiqYfyVpXrK"
      },
      "execution_count": null,
      "outputs": []
    }
  ]
}