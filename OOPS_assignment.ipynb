{
  "nbformat": 4,
  "nbformat_minor": 0,
  "metadata": {
    "colab": {
      "provenance": [],
      "authorship_tag": "ABX9TyOK7MDeoB0flK/AAYNDwYsH",
      "include_colab_link": true
    },
    "kernelspec": {
      "name": "python3",
      "display_name": "Python 3"
    },
    "language_info": {
      "name": "python"
    }
  },
  "cells": [
    {
      "cell_type": "markdown",
      "metadata": {
        "id": "view-in-github",
        "colab_type": "text"
      },
      "source": [
        "<a href=\"https://colab.research.google.com/github/SarthakGangwar17/DataScienceAssignments/blob/main/OOPS_assignment.ipynb\" target=\"_parent\"><img src=\"https://colab.research.google.com/assets/colab-badge.svg\" alt=\"Open In Colab\"/></a>"
      ]
    },
    {
      "cell_type": "code",
      "execution_count": null,
      "metadata": {
        "id": "gLMb3_2M1wVy"
      },
      "outputs": [],
      "source": []
    },
    {
      "cell_type": "markdown",
      "source": [
        "Answer 1:-\n",
        "CLASS - class is a templete or blueprint for the object that has some data member and methods.\n",
        "It is used to create the objects\n",
        "\n",
        "OBJECTS- objects are some real world entity that has its own behaviour and state.\n",
        "It is created with the help of the objects\n",
        "\n"
      ],
      "metadata": {
        "id": "cTB9sVCW2RcR"
      }
    },
    {
      "cell_type": "markdown",
      "source": [
        "Answer 2:-\n",
        "There are four pillars of oops that are given below\n",
        "Inheritance- In this one class inherit the propertes of its parent class.\n",
        "\n",
        "Polymorphism- It mean the ability of object to take multiple form depend upon the situation\n",
        "\n",
        "Encasulation- when data member and methods are binded together as single entity that is called Encapsulation. It means it provide only necessary info to the outside world\n",
        "\n",
        "Abstraction - It  hide the implementaion and and show only its funcanality.\n",
        "It tells what the object works rather than how it works"
      ],
      "metadata": {
        "id": "rnYgda3u3RIw"
      }
    },
    {
      "cell_type": "markdown",
      "source": [
        "Answer 3:- __init__ is a constructor that is invoked automatically when an object is created.\n",
        "It is mainly used to assign the values to data member.\n"
      ],
      "metadata": {
        "id": "E3LNILws5YV8"
      }
    },
    {
      "cell_type": "code",
      "source": [
        "class demo:\n",
        "  def __init__(s,country , language):\n",
        "    s.country=country\n",
        "    s.language=language\n",
        "\n",
        "  def prnt(s):\n",
        "    print(s.country,s.language)\n",
        "\n",
        "obj=demo('india','hindi')\n",
        "obj.prnt()\n"
      ],
      "metadata": {
        "colab": {
          "base_uri": "https://localhost:8080/"
        },
        "id": "rPKBXdMm3B3M",
        "outputId": "ca4a1cfb-3352-48d0-bb21-aca5108554d9"
      },
      "execution_count": 3,
      "outputs": [
        {
          "output_type": "stream",
          "name": "stdout",
          "text": [
            "india hindi\n"
          ]
        }
      ]
    },
    {
      "cell_type": "markdown",
      "source": [
        "Answer 4:- SELF  is used to bind the methods to the class so it can access the data member and other method of the class"
      ],
      "metadata": {
        "id": "WsX4JNCV6cAu"
      }
    },
    {
      "cell_type": "markdown",
      "source": [
        "Answer 5:- Inheritance is one of the four pillar of the oops .\n",
        "in this one class inherit or adapt the quality of another class\n",
        "It is mainly of 5 types\n",
        "Single inheritance\n",
        "Multiple inheritance\n",
        "Multilevel inheritance\n",
        "Hierarchical inheritance\n",
        "Hybrid inheritance"
      ],
      "metadata": {
        "id": "PYHUfwIS6skM"
      }
    },
    {
      "cell_type": "code",
      "source": [],
      "metadata": {
        "id": "7PYdMja06zd6"
      },
      "execution_count": null,
      "outputs": []
    }
  ]
}