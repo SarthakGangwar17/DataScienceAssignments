{
  "nbformat": 4,
  "nbformat_minor": 0,
  "metadata": {
    "colab": {
      "provenance": [],
      "authorship_tag": "ABX9TyMLQCV4LQRlvuZ35dHrNL8H",
      "include_colab_link": true
    },
    "kernelspec": {
      "name": "python3",
      "display_name": "Python 3"
    },
    "language_info": {
      "name": "python"
    }
  },
  "cells": [
    {
      "cell_type": "markdown",
      "metadata": {
        "id": "view-in-github",
        "colab_type": "text"
      },
      "source": [
        "<a href=\"https://colab.research.google.com/github/SarthakGangwar17/DataScienceAssignments/blob/main/MLassignment2.ipynb\" target=\"_parent\"><img src=\"https://colab.research.google.com/assets/colab-badge.svg\" alt=\"Open In Colab\"/></a>"
      ]
    },
    {
      "cell_type": "markdown",
      "source": [
        "Answer 1:-\n",
        "Over fitting -\n",
        "In  this model is accurate on traning data\n",
        "but it has very low accuracy during test data\n",
        "so it is low bias\n",
        "and high variance\n",
        "\n",
        "Under fitting - In this model is neither accurate on traning data nor on test data\n",
        "it is high bias\n",
        "and high variance\n"
      ],
      "metadata": {
        "id": "tnf2k_qmWxkq"
      }
    },
    {
      "cell_type": "markdown",
      "source": [
        "Answer 2:-\n",
        "Reduce the complexity of the model\n",
        "and make genarlize it so it can perform better on unseen data.\n"
      ],
      "metadata": {
        "id": "-sW278EPYIZH"
      }
    },
    {
      "cell_type": "markdown",
      "source": [
        "Answer 3:-\n",
        "Underfitting- In this model has low accuracy with traning data\n",
        " and it also has low accuracy with testing data\n",
        "\n",
        "It can occur when the model is so simple so it can find pattern in data\n"
      ],
      "metadata": {
        "id": "F8yn4bZ5YUK-"
      }
    },
    {
      "cell_type": "markdown",
      "source": [
        "Answer 7:-\n",
        "Regularization - It is a technique that is used in machine learning for preventing the overfitting.\n",
        "It add penality term in model's loss function\n",
        "\n",
        "It prevent model by learning from complexe data sets\n",
        "and it incourage to learn from the generalized data sets\n"
      ],
      "metadata": {
        "id": "DSg3vW-OZZhN"
      }
    }
  ]
}