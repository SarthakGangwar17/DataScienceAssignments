{
  "nbformat": 4,
  "nbformat_minor": 0,
  "metadata": {
    "colab": {
      "provenance": [],
      "authorship_tag": "ABX9TyNaHFOavel4NgBzRfLLaglE",
      "include_colab_link": true
    },
    "kernelspec": {
      "name": "python3",
      "display_name": "Python 3"
    },
    "language_info": {
      "name": "python"
    }
  },
  "cells": [
    {
      "cell_type": "markdown",
      "metadata": {
        "id": "view-in-github",
        "colab_type": "text"
      },
      "source": [
        "<a href=\"https://colab.research.google.com/github/SarthakGangwar17/DataScienceAssignments/blob/main/MLassignment1.ipynb\" target=\"_parent\"><img src=\"https://colab.research.google.com/assets/colab-badge.svg\" alt=\"Open In Colab\"/></a>"
      ]
    },
    {
      "cell_type": "markdown",
      "source": [
        "Answer 1:-\n",
        "Artificial Intelligence- Ai is a  smart application or product that perform specific tasks without or minimal  human intervention.\n",
        "example- recomendation system, chat bot, self driving cars, customer segmentation.\n",
        "\n",
        "Machine Learning - ML is a technology by which we make machine intelligent by traning them.\n",
        "It is a group of stats tool that is used to clean , visualize,alanalyze , prediction and feature engineering.\n",
        "\n",
        "Deep Learning- DL is a subset of Machine learning.\n",
        " It is used to mimic human mind with the help of multi level neural networks . So the model is trained in this way so it can think like human brain."
      ],
      "metadata": {
        "id": "gKMRMyK291Ya"
      }
    },
    {
      "cell_type": "markdown",
      "source": [
        "Answer 2:-\n",
        "supervised learning is a one of the type of machine learning . In which machine is trainend with labeled data . In simple words output is also given to model along with input. so it can predict the output of similiar input.\n",
        "It has 2 types\n",
        "classification- It is used for categorical data\n",
        "regression - It is used for continuos data\n",
        "\n",
        "Example- match winnig prediction , weather prediction\n",
        "\n"
      ],
      "metadata": {
        "id": "UO61wbTm-nCV"
      }
    },
    {
      "cell_type": "markdown",
      "source": [
        "Answer 3:-  In this type of machine learning\n",
        "Unlabeled data is provided.\n",
        "It create a clusters with given data.\n",
        "This means it create multiple group of enitities with similiar features.\n",
        "\n",
        "Ex- It is mostly used in customer segmentation.\n",
        "\n",
        "\n"
      ],
      "metadata": {
        "id": "KtImr6TpAXeu"
      }
    },
    {
      "cell_type": "markdown",
      "source": [
        "Answer 4:-\n",
        "Ai- it is a product that is created with the help of ml dl and data science.\n",
        "\n",
        "Ml - it is used to train Model.\n",
        "DL- it used to crete model that mimic human minds\n",
        "\n",
        "Data Science - It is a field that uses scientic method to extract the insight and valuable knowledge , finding the pattern ,helping in decision making from the data. It is a combination of different tools and technology."
      ],
      "metadata": {
        "id": "WVdLqaqNCAlY"
      }
    },
    {
      "cell_type": "markdown",
      "source": [
        "Answer 5:-\n",
        "\n",
        "supervised Learning- It uses labeled data for model traning . It means along input output is also given.\n",
        "\n",
        "Unsupervised Learning- It uses unlabled data for model\n",
        "training .\n",
        "\n",
        "semisupervised Leaning - It is a combination of both supervised  and unsupervised machine learnign  . It uses both labeled and unlabeled data.\n"
      ],
      "metadata": {
        "id": "3XMCIWCSDLvC"
      }
    },
    {
      "cell_type": "markdown",
      "source": [
        "Answer 6:-\n",
        "Train dataset - It is basically used to train the model.\n",
        "Validation - It is used for hyper tunning. thats bascially means to change in parameters and enviornment for improving the performance.\n",
        "\n",
        "Test - It is used to measure the performance of the model. How accurate the model is giving answers.\n"
      ],
      "metadata": {
        "id": "7hx-edsbEMU0"
      }
    },
    {
      "cell_type": "markdown",
      "source": [
        "Answer 7:-\n",
        "Unsupervised ml uses clustering to make groups of entity. It help in finding outliers"
      ],
      "metadata": {
        "id": "1E9z2vI8Fn14"
      }
    },
    {
      "cell_type": "markdown",
      "source": [
        "Answer 8:-\n",
        "Commonly used supervised algo:-\n",
        "Linear Regression\n",
        "Naive Bias\n",
        "KNN\n",
        "Random Forest\n",
        "Decision Tree\n",
        "Support Vector Machine\n",
        "\n",
        "Unsupervised Algo:-\n",
        "K Means clustering\n",
        "Hierarchical clustering\n",
        "DBSCAN\n",
        "PCA\n"
      ],
      "metadata": {
        "id": "r2dFPUyIGXzv"
      }
    }
  ]
}