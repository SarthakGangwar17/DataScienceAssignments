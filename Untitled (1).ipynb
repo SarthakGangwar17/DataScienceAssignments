{
 "cells": [
  {
   "cell_type": "raw",
   "id": "97ea64da-69a2-4a06-9bf2-4f67ead26f8b",
   "metadata": {},
   "source": [
    "\n"
   ]
  },
  {
   "cell_type": "code",
   "execution_count": 1,
   "id": "a93cd7b6-85cc-42fc-82cd-a10ea9bf6990",
   "metadata": {},
   "outputs": [],
   "source": [
    "#Answer 1:\n",
    "name=\"Sarthak Gangwar\"\n",
    "lst=[12,3232,'ok','hello',234.3244,True]\n",
    "number=46565453.4535\n",
    "tple=(324,3445,'hy',534.3435,False)\n"
   ]
  },
  {
   "cell_type": "raw",
   "id": "4806d6c4-5e43-4807-8858-1328dcc7e10c",
   "metadata": {},
   "source": []
  },
  {
   "cell_type": "raw",
   "id": "b6ce575f-c51f-4db6-aeb4-9c9ee0d63bd7",
   "metadata": {},
   "source": [
    "#Answer 2:\n",
    "1. Data type of var1= String\n",
    "2.Data type of var2= String\n",
    "3. Date type of var3= list\n",
    "4. Data type of var4 = float\n"
   ]
  },
  {
   "cell_type": "raw",
   "id": "b2c45933-6d9e-46b5-b2ba-10db3f5fd6d8",
   "metadata": {},
   "source": [
    "\n"
   ]
  },
  {
   "cell_type": "code",
   "execution_count": 9,
   "id": "eb7688fd-50d4-4b1c-93ef-d2f12e77eb38",
   "metadata": {},
   "outputs": [
    {
     "data": {
      "text/plain": [
       "2.0"
      ]
     },
     "execution_count": 9,
     "metadata": {},
     "output_type": "execute_result"
    }
   ],
   "source": [
    "#Answer 3:\n",
    "# Use of '/ 'Operator . It is known as divison operator\n",
    "a=10\n",
    "\n",
    "b=5\n",
    "a/b\n",
    "# a will be divided by b"
   ]
  },
  {
   "cell_type": "code",
   "execution_count": 10,
   "id": "0a356260-aca8-4785-8d56-ed6dc474f8f5",
   "metadata": {},
   "outputs": [
    {
     "name": "stdout",
     "output_type": "stream",
     "text": [
      " a is even number\n"
     ]
    }
   ],
   "source": [
    "# Use of '%' Operator. It is known as Modulo Operator\n",
    "a=16\n",
    "if(a%2==0):\n",
    "    print(\" a is even number\")"
   ]
  },
  {
   "cell_type": "code",
   "execution_count": 12,
   "id": "fe9f8bef-68f0-4ad8-adf2-24d1f08c0483",
   "metadata": {},
   "outputs": [
    {
     "data": {
      "text/plain": [
       "2"
      ]
     },
     "execution_count": 12,
     "metadata": {},
     "output_type": "execute_result"
    }
   ],
   "source": [
    "# Use of '//' Operator. It is also known as floor division\n",
    "a=14\n",
    "a//5\n",
    "\n",
    "# It gives the floor value."
   ]
  },
  {
   "cell_type": "code",
   "execution_count": 13,
   "id": "bbe39502-9626-4ce7-8539-efa5d8bd16eb",
   "metadata": {},
   "outputs": [
    {
     "data": {
      "text/plain": [
       "16"
      ]
     },
     "execution_count": 13,
     "metadata": {},
     "output_type": "execute_result"
    }
   ],
   "source": [
    "# Use of '**' Operator. It is also known as Exponantional Operator.\n",
    "2**4\n"
   ]
  },
  {
   "cell_type": "raw",
   "id": "ed6d8bae-92cf-4046-a6ba-d1c5ca2a3fe9",
   "metadata": {},
   "source": []
  },
  {
   "cell_type": "code",
   "execution_count": 15,
   "id": "f2c086b5-3e9f-40ea-8110-03691e669e53",
   "metadata": {},
   "outputs": [
    {
     "name": "stdout",
     "output_type": "stream",
     "text": [
      "3256\n",
      "<class 'int'>\n",
      "6764\n",
      "<class 'int'>\n",
      "436.5645\n",
      "<class 'float'>\n",
      "5436.54645\n",
      "<class 'float'>\n",
      "Name\n",
      "<class 'str'>\n",
      "RollNo\n",
      "<class 'str'>\n",
      "True\n",
      "<class 'bool'>\n",
      "False\n",
      "<class 'bool'>\n",
      "[123, 324]\n",
      "<class 'list'>\n",
      "(23, 23444)\n",
      "<class 'tuple'>\n"
     ]
    }
   ],
   "source": [
    "#Answer 4:\n",
    "lst=[3256,6764,436.5645,5436.54645,'Name','RollNo',True, False,[123,324],(23,23444)]\n",
    "for i in lst:\n",
    "    print(i)\n",
    "    print(type(i))"
   ]
  },
  {
   "cell_type": "raw",
   "id": "ad343f91-5f5b-42fd-b62c-e52359906ee6",
   "metadata": {},
   "source": [
    "\n"
   ]
  },
  {
   "cell_type": "code",
   "execution_count": null,
   "id": "c500d036-619d-4163-8c50-875039591ba7",
   "metadata": {},
   "outputs": [],
   "source": [
    "#Answer 5:\n",
    "a=40\n",
    "b=2\n",
    "count =0\n",
    "while(a%b==0):\n",
    "    a=a/b\n",
    "    count+=1\n",
    "print(count)\n",
    "    \n",
    "    "
   ]
  },
  {
   "cell_type": "raw",
   "id": "7be1ae88-59ea-453d-a4bc-f2fb55fd4712",
   "metadata": {},
   "source": []
  },
  {
   "cell_type": "code",
   "execution_count": null,
   "id": "550a7718-6b82-4cd2-9c43-20ef3beb5cba",
   "metadata": {},
   "outputs": [],
   "source": [
    "#Annwer 6:\n",
    "lst2=[34,787,6745,67456,56,567,67547,8,546,84,8,3768,7,975476,94657,98456,8,4564356,456456,34,57665,54,564546,45,6436,45667,4536,3745,654,7]"
   ]
  },
  {
   "cell_type": "code",
   "execution_count": null,
   "id": "8a773154-9b4f-45d3-b921-4b7d6f37df97",
   "metadata": {},
   "outputs": [],
   "source": [
    "\n",
    "for i in lst2:\n",
    "    \n",
    "    if (i%3==0):\n",
    "        print(i ,\" The element is divisible by 3\")\n",
    "    else:\n",
    "        print(i,\" The element is not divisible by 3\")"
   ]
  },
  {
   "cell_type": "raw",
   "id": "26b0a96a-9a3c-4377-a7eb-2493ed4e4471",
   "metadata": {},
   "source": [
    "\n"
   ]
  },
  {
   "cell_type": "code",
   "execution_count": null,
   "id": "ce7d457a-51ea-4860-9a98-933d6fcf5484",
   "metadata": {},
   "outputs": [],
   "source": [
    "#Answer 7\n",
    "\n",
    "\n",
    "\n",
    "# Mutable Objects:\n",
    "#     The objects in which the value can be re assigned at any particular index.\n",
    "#     ex-list is an mutable object\n",
    "    "
   ]
  },
  {
   "cell_type": "code",
   "execution_count": null,
   "id": "c34e004d-bba4-4918-b14c-1897f4a2dfe2",
   "metadata": {},
   "outputs": [],
   "source": [
    " number=[1,2,3,4,5]\n",
    " \n",
    " number[0]=10\n",
    "\n",
    " \n",
    " "
   ]
  },
  {
   "cell_type": "code",
   "execution_count": null,
   "id": "308a5740-6160-4c8d-81e7-1b4226b7cd46",
   "metadata": {},
   "outputs": [],
   "source": [
    "# Immutable Objects:\n",
    "#         The Objects in which the value can be "
   ]
  },
  {
   "cell_type": "code",
   "execution_count": null,
   "id": "529fdc40-d873-45bb-b6f3-bd3c38a7d86c",
   "metadata": {},
   "outputs": [],
   "source": []
  }
 ],
 "metadata": {
  "kernelspec": {
   "display_name": "Python 3 (ipykernel)",
   "language": "python",
   "name": "python3"
  },
  "language_info": {
   "codemirror_mode": {
    "name": "ipython",
    "version": 3
   },
   "file_extension": ".py",
   "mimetype": "text/x-python",
   "name": "python",
   "nbconvert_exporter": "python",
   "pygments_lexer": "ipython3",
   "version": "3.10.8"
  }
 },
 "nbformat": 4,
 "nbformat_minor": 5
}
